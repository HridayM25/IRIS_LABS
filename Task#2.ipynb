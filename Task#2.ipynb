{
 "cells": [
  {
   "cell_type": "code",
   "execution_count": null,
   "id": "a1713da8",
   "metadata": {},
   "outputs": [],
   "source": [
    "#This program takes the input from the user for entering two movies of the user's choice. \n",
    "#It then gives a similarity score to the pair of movies by comparing the similarity of them plot.\n",
    "#Feel free to run this program by running the code and enter two movies of your choice to compare how similar they are!!\n",
    "\n",
    "#You have to manually copy the 'ids' of the movies you have selected, I am still working on finding a solution to do that, so\n",
    "#sorry for that!!"
   ]
  },
  {
   "cell_type": "code",
   "execution_count": 130,
   "id": "349aac76",
   "metadata": {},
   "outputs": [
    {
     "name": "stdout",
     "output_type": "stream",
     "text": [
      "Please input the name of the first movie: Inception\n",
      "{\"d\":[{\"i\":{\"height\":1037,\"imageUrl\":\"https://m.media-amazon.com/images/M/MV5BMjAxMzY3NjcxNF5BMl5BanBnXkFtZTcwNTI5OTM0Mw@@._V1_.jpg\",\"width\":700},\"id\":\"tt1375666\",\"l\":\"Inception\",\"q\":\"feature\",\"rank\":326,\"s\":\"Leonardo DiCaprio, Joseph Gordon-Levitt\",\"v\":[{\"i\":{\"height\":1071,\"imageUrl\":\"https://m.media-amazon.com/images/M/MV5BMTQ1ZmIzOTAtNDcwZi00NDVkLWE4NWItYWNhZGY1MmVlZGU0XkEyXkFqcGdeQWRvb2xpbmhk._V1_.jpg\",\"width\":1905},\"id\":\"vi2959588889\",\"l\":\"10th Anniversary Dream Trailer\",\"s\":\"1:45\"},{\"i\":{\"height\":1080,\"imageUrl\":\"https://m.media-amazon.com/images/M/MV5BNmRlNGQyMzktNDY3NC00MzExLTljNzItODY5YWJjOTgzYzE4XkEyXkFqcGdeQWFybm8@._V1_.jpg\",\"width\":1920},\"id\":\"vi321503513\",\"l\":\"'Tenet' Fan Theories: What We Got Right (and Wrong)\",\"s\":\"5:09\"},{\"i\":{\"height\":720,\"imageUrl\":\"https://m.media-amazon.com/images/M/MV5BMTcxNTA2OTk1Nl5BMl5BanBnXkFtZTgwMDU1Njg4MjE@._V1_.jpg\",\"width\":1280},\"id\":\"vi3399785241\",\"l\":\"Inception: Behind the Scenes\",\"s\":\"2:35\"}],\"vt\":27,\"y\":2010},{\"i\":{\"height\":644,\"imageUrl\":\"https://m.media-amazon.com/images/M/MV5BMjE0NGIwM2EtZjQxZi00ZTE5LWExN2MtNDBlMjY1ZmZkYjU3XkEyXkFqcGdeQXVyNjMwNzk3Mjk@._V1_.jpg\",\"width\":420},\"id\":\"tt1790736\",\"l\":\"Inception: Motion Comics\",\"q\":\"video\",\"rank\":18211,\"s\":\"Leonardo DiCaprio, Joseph Gordon-Levitt\",\"y\":2010},{\"i\":{\"height\":3300,\"imageUrl\":\"https://m.media-amazon.com/images/M/MV5BZGFjOTRiYjgtYjEzMS00ZjQ2LTkzY2YtOGQ0NDI2NTVjOGFmXkEyXkFqcGdeQXVyNDQ5MDYzMTk@._V1_.jpg\",\"width\":2228},\"id\":\"tt5295990\",\"l\":\"Inception: Jump Right Into the Action\",\"q\":\"video\",\"rank\":70460,\"s\":\"Leonardo DiCaprio, Joseph Gordon-Levitt\",\"y\":2010},{\"id\":\"tt12960252\",\"l\":\"Inception Premiere\",\"q\":\"feature\",\"rank\":618188,\"s\":\"Tera Hendrickson, Johnny Marr\",\"y\":2010},{\"i\":{\"height\":1514,\"imageUrl\":\"https://m.media-amazon.com/images/M/MV5BNGZmYTc3OGItMzk3MS00YzIzLWExMzUtMzE4MDNkOGFiZWU0XkEyXkFqcGdeQXVyNDg2NjU3NTI@._V1_.jpg\",\"width\":2936},\"id\":\"tt3563778\",\"l\":\"Inception of a lost Art\",\"q\":\"feature\",\"rank\":972047,\"s\":\"Alexia Jordan, Philip Lombardo\",\"y\":2013},{\"id\":\"tt1686778\",\"l\":\"Inception: 4Movie Premiere Special\",\"q\":\"TV movie\",\"rank\":1342045,\"s\":\"Rick Edwards\",\"y\":2010},{\"id\":\"nm13440063\",\"l\":\"Inception Mental Health Gym\",\"rank\":6758650},{\"i\":{\"height\":1200,\"imageUrl\":\"https://m.media-amazon.com/images/M/MV5BNTJmYmMyMGMtODgxNy00YjY3LTgyMGItYTMzZTVlYzZmNjE2XkEyXkFqcGdeQXVyMzEyMTQyNA@@._V1_.jpg\",\"width\":848},\"id\":\"tt13613056\",\"l\":\"Deception\",\"q\":\"feature\",\"rank\":5579,\"s\":\"Denis Podalydès, Léa Seydoux\",\"y\":2021}],\"q\":\"inception\",\"v\":1}\n"
     ]
    }
   ],
   "source": [
    "str1=input (\"Please input the name of the first movie: \")\n",
    "\n",
    "\n",
    "\n",
    "\n",
    "import requests\n",
    "\n",
    "url = \"https://online-movie-database.p.rapidapi.com/auto-complete\"\n",
    "\n",
    "querystring = {\"q\":str1}\n",
    "\n",
    "headers = {\n",
    "\t\"X-RapidAPI-Key\": \"7ef0fb3165msheecce1733d9b98fp177c9fjsn01502152234f\",\n",
    "\t\"X-RapidAPI-Host\": \"online-movie-database.p.rapidapi.com\"\n",
    "}\n",
    "\n",
    "response = requests.request(\"GET\", url, headers=headers, params=querystring)\n",
    "\n",
    "print(response.text)"
   ]
  },
  {
   "cell_type": "code",
   "execution_count": 120,
   "id": "6c6f78f1",
   "metadata": {},
   "outputs": [
    {
     "name": "stdout",
     "output_type": "stream",
     "text": [
      "Please input the name of the second movie : Titanic\n",
      "{\"d\":[{\"i\":{\"height\":3000,\"imageUrl\":\"https://m.media-amazon.com/images/M/MV5BMDdmZGU3NDQtY2E5My00ZTliLWIzOTUtMTY4ZGI1YjdiNjk3XkEyXkFqcGdeQXVyNTA4NzY1MzY@._V1_.jpg\",\"width\":2015},\"id\":\"tt0120338\",\"l\":\"Titanic\",\"q\":\"feature\",\"rank\":222,\"s\":\"Leonardo DiCaprio, Kate Winslet\",\"v\":[{\"i\":{\"height\":816,\"imageUrl\":\"https://m.media-amazon.com/images/M/MV5BNzczNjA2MTY5M15BMl5BanBnXkFtZTgwNTgyNDY2NzE@._V1_.jpg\",\"width\":1920},\"id\":\"vi907189785\",\"l\":\"3D Release\",\"s\":\"2:11\"},{\"i\":{\"height\":1080,\"imageUrl\":\"https://m.media-amazon.com/images/M/MV5BM2RhYTdiNjItYjFkNS00NTZiLTlmYmItOGI1OWZkNzVkMjkzXkEyXkFqcGdeQW1yb2Njbw@@._V1_.jpg\",\"width\":1920},\"id\":\"vi1193851417\",\"l\":\"Why Felicity Jones Idolizes Wednesday Adams and Katharine Hepburn\",\"s\":\"2:29\"},{\"i\":{\"height\":720,\"imageUrl\":\"https://m.media-amazon.com/images/M/MV5BMTgzODM0Mjk2Ml5BMl5BanBnXkFtZTgwODQ4MzAzMzE@._V1_.jpg\",\"width\":1280},\"id\":\"vi2197921305\",\"l\":\"James Cameron\",\"s\":\"3:05\"}],\"vt\":25,\"y\":1997},{\"i\":{\"height\":2870,\"imageUrl\":\"https://m.media-amazon.com/images/M/MV5BM2MyYjI2MWMtNDVkZi00Mjk0LTk3MTctYTM4ZWU2NjkxMjU3XkEyXkFqcGdeQXVyNjE0MTY2NjY@._V1_.jpg\",\"width\":2000},\"id\":\"tt18394428\",\"l\":\"Titanic 666\",\"q\":\"feature\",\"rank\":7170,\"s\":\"Keesha Sharp, Jamie Bamber\",\"y\":2022},{\"i\":{\"height\":650,\"imageUrl\":\"https://m.media-amazon.com/images/M/MV5BMTMxMjQ1MjA5Ml5BMl5BanBnXkFtZTcwNjIzNjg1Mw@@._V1_.jpg\",\"width\":462},\"id\":\"tt1640571\",\"l\":\"Titanic II\",\"q\":\"video\",\"rank\":7684,\"s\":\"Shane Van Dyke, Marie Westbrook\",\"y\":2010},{\"i\":{\"height\":415,\"imageUrl\":\"https://m.media-amazon.com/images/M/MV5BMTA4MjIyZWEtZjYwMS00ZmQ1LWJiMDEtMWNiNTI5NWE3OGJjXkEyXkFqcGdeQXVyNjk1Njg5NTA@._V1_.jpg\",\"width\":290},\"id\":\"tt1869152\",\"l\":\"Titanic\",\"q\":\"TV mini-series\",\"rank\":13440,\"s\":\"Peter McDonald, Steven Waddington\",\"y\":2012,\"yr\":\"2012-2012\"},{\"i\":{\"height\":2681,\"imageUrl\":\"https://m.media-amazon.com/images/M/MV5BNTQyZGI0NDgtYTM0ZC00NTdkLTk2OTItYTgwYmYwNjZlNDRlXkEyXkFqcGdeQXVyMTY5Nzc4MDY@._V1_.jpg\",\"width\":1688},\"id\":\"tt0081400\",\"l\":\"Raise the Titanic\",\"q\":\"feature\",\"rank\":14408,\"s\":\"Jason Robards, Richard Jordan\",\"y\":1980},{\"i\":{\"height\":640,\"imageUrl\":\"https://m.media-amazon.com/images/M/MV5BMjI2MzU2NzEzN15BMl5BanBnXkFtZTcwMzI5NTU3Nw@@._V1_.jpg\",\"width\":451},\"id\":\"tt1695366\",\"l\":\"Titanic: Blood and Steel\",\"q\":\"TV mini-series\",\"rank\":16981,\"s\":\"Kevin Zegers, Alessandra Mastronardi\",\"y\":2012,\"yr\":\"2012-2012\"},{\"i\":{\"height\":500,\"imageUrl\":\"https://m.media-amazon.com/images/M/MV5BMTU3NTUyMTc3Nl5BMl5BanBnXkFtZTgwOTA2MDE3MTE@._V1_.jpg\",\"width\":335},\"id\":\"tt0046435\",\"l\":\"Titanic\",\"q\":\"feature\",\"rank\":17819,\"s\":\"Clifton Webb, Barbara Stanwyck\",\"y\":1953},{\"i\":{\"height\":886,\"imageUrl\":\"https://m.media-amazon.com/images/M/MV5BOWRiZDljY2YtOWJiNy00OTUyLTgzMmMtMzBlYTI0YTYwYTkzL2ltYWdlXkEyXkFqcGdeQXVyNjQzNDI3NzY@._V1_.jpg\",\"width\":580},\"id\":\"tt0051994\",\"l\":\"A Night to Remember\",\"q\":\"feature\",\"rank\":14123,\"s\":\"Kenneth More, Ronald Allen\",\"y\":1958}],\"q\":\"titanic\",\"v\":1}\n"
     ]
    }
   ],
   "source": [
    "str2=input (\"Please input the name of the second movie : \")\n",
    "\n",
    "\n",
    "\n",
    "\n",
    "import requests\n",
    "\n",
    "url = \"https://online-movie-database.p.rapidapi.com/auto-complete\"\n",
    "\n",
    "querystring = {\"q\":str2}\n",
    "\n",
    "headers = {\n",
    "\t\"X-RapidAPI-Key\": \"7ef0fb3165msheecce1733d9b98fp177c9fjsn01502152234f\",\n",
    "\t\"X-RapidAPI-Host\": \"online-movie-database.p.rapidapi.com\"\n",
    "}\n",
    "\n",
    "response = requests.request(\"GET\", url, headers=headers, params=querystring)\n",
    "\n",
    "print(response.text)"
   ]
  },
  {
   "cell_type": "code",
   "execution_count": 96,
   "id": "a6aee890",
   "metadata": {},
   "outputs": [],
   "source": [
    "#Please look up the ids of the movies you have selected and paste them into the \"tconst\" field."
   ]
  },
  {
   "cell_type": "code",
   "execution_count": null,
   "id": "3e59d470",
   "metadata": {},
   "outputs": [],
   "source": []
  },
  {
   "cell_type": "code",
   "execution_count": 121,
   "id": "7ca2e485",
   "metadata": {},
   "outputs": [],
   "source": [
    "import requests\n",
    "\n",
    "url = \"https://online-movie-database.p.rapidapi.com/title/get-plots\"\n",
    "#paste the id here\n",
    "querystring = {\"tconst\":\"tt1375666\"}\n",
    "\n",
    "headers = {\n",
    "\t\"X-RapidAPI-Key\": \"7ef0fb3165msheecce1733d9b98fp177c9fjsn01502152234f\",\n",
    "\t\"X-RapidAPI-Host\": \"online-movie-database.p.rapidapi.com\"\n",
    "}\n",
    "\n",
    "response = requests.request(\"GET\", url, headers=headers, params=querystring)\n",
    "\n",
    "def substring_after(s, delim):\n",
    "    return s.partition(delim)[2]\n",
    "\n",
    "str3=substring_after(response.text,'/plot')\n"
   ]
  },
  {
   "cell_type": "code",
   "execution_count": 122,
   "id": "82773d8d",
   "metadata": {},
   "outputs": [],
   "source": [
    "import requests\n",
    "\n",
    "url = \"https://online-movie-database.p.rapidapi.com/title/get-plots\"\n",
    "#paste the id here\n",
    "querystring = {\"tconst\":\"tt0120338\"}\n",
    "\n",
    "headers = {\n",
    "\t\"X-RapidAPI-Key\": \"7ef0fb3165msheecce1733d9b98fp177c9fjsn01502152234f\",\n",
    "\t\"X-RapidAPI-Host\": \"online-movie-database.p.rapidapi.com\"\n",
    "}\n",
    "\n",
    "response = requests.request(\"GET\", url, headers=headers, params=querystring)\n",
    "\n",
    "def substring_after(s, delim):\n",
    "    return s.partition(delim)[2]\n",
    "\n",
    "str4=substring_after(response.text,'/plot')"
   ]
  },
  {
   "cell_type": "code",
   "execution_count": 123,
   "id": "43af687c",
   "metadata": {},
   "outputs": [],
   "source": [
    "plot=[]\n",
    "plot.append(str3)\n",
    "plot.append(str4)"
   ]
  },
  {
   "cell_type": "code",
   "execution_count": null,
   "id": "e94290e6",
   "metadata": {},
   "outputs": [],
   "source": [
    "#This is the first method I will be using for the model."
   ]
  },
  {
   "cell_type": "code",
   "execution_count": 126,
   "id": "5162973e",
   "metadata": {},
   "outputs": [],
   "source": [
    "from sentence_transformers import SentenceTransformer\n",
    "\n",
    "model = SentenceTransformer('bert-base-nli-mean-tokens')"
   ]
  },
  {
   "cell_type": "code",
   "execution_count": 127,
   "id": "3004bfba",
   "metadata": {},
   "outputs": [],
   "source": [
    "sentence_embeddings=model.encode(plot)"
   ]
  },
  {
   "cell_type": "code",
   "execution_count": 128,
   "id": "fd793edc",
   "metadata": {},
   "outputs": [],
   "source": [
    "from sklearn.metrics.pairwise import cosine_similarity "
   ]
  },
  {
   "cell_type": "code",
   "execution_count": 149,
   "id": "518a0c96",
   "metadata": {},
   "outputs": [
    {
     "data": {
      "text/plain": [
       "array([[0.45949966]], dtype=float32)"
      ]
     },
     "execution_count": 149,
     "metadata": {},
     "output_type": "execute_result"
    }
   ],
   "source": [
    "scores1=cosine_similarity([sentence_embeddings[0]],sentence_embeddings[1:])\n",
    "scores1"
   ]
  },
  {
   "cell_type": "code",
   "execution_count": 131,
   "id": "7a6aa01e",
   "metadata": {},
   "outputs": [],
   "source": [
    "#This is the second method I will be using for the model.\n",
    "#This is the SBERT Model."
   ]
  },
  {
   "cell_type": "code",
   "execution_count": 138,
   "id": "21e9199c",
   "metadata": {},
   "outputs": [],
   "source": [
    "from sentence_transformers import SentenceTransformer\n",
    "\n",
    "model=SentenceTransformer('bert-base-nli-mean-tokens')"
   ]
  },
  {
   "cell_type": "code",
   "execution_count": 141,
   "id": "f6882d57",
   "metadata": {},
   "outputs": [],
   "source": [
    "sentence_embeddings=model.encode([str3,str4])"
   ]
  },
  {
   "cell_type": "code",
   "execution_count": 151,
   "id": "575a2e59",
   "metadata": {},
   "outputs": [],
   "source": [
    "from sklearn.metrics.pairwise import cosine_similarity\n",
    "import numpy as np\n",
    "\n",
    "scores2=np.zeros((sentence_embeddings.shape[0], sentence_embeddings.shape[0]))\n",
    "\n",
    "for i in range(sentence_embeddings.shape[0]):\n",
    "    scores2[i, :]=cosine_similarity([sentence_embeddings[i]],\n",
    "                                  sentence_embeddings)[0]\n"
   ]
  },
  {
   "cell_type": "code",
   "execution_count": 152,
   "id": "c6bc7619",
   "metadata": {},
   "outputs": [
    {
     "data": {
      "text/plain": [
       "0.45949962735176086"
      ]
     },
     "execution_count": 152,
     "metadata": {},
     "output_type": "execute_result"
    }
   ],
   "source": [
    "scores2[1][0]"
   ]
  },
  {
   "cell_type": "code",
   "execution_count": 147,
   "id": "d99d0c13",
   "metadata": {},
   "outputs": [],
   "source": [
    "#Lets find the difference between the similarity scores obtained from these two models.\n",
    "\n",
    "#the matrices are indexed in the way to get the similarity score between each other"
   ]
  },
  {
   "cell_type": "code",
   "execution_count": 157,
   "id": "6fd5ec45",
   "metadata": {},
   "outputs": [
    {
     "data": {
      "text/plain": [
       "2.9802322387695312e-08"
      ]
     },
     "execution_count": 157,
     "metadata": {},
     "output_type": "execute_result"
    }
   ],
   "source": [
    "scores1[0][0]-scores2[1][0]"
   ]
  },
  {
   "cell_type": "code",
   "execution_count": null,
   "id": "3b59263c",
   "metadata": {},
   "outputs": [],
   "source": [
    "#Here, we can observe the difference of the scores as predicted by the two models is very less. \n",
    "\n",
    "#Hence, we can conclude that our model is working fine for both."
   ]
  }
 ],
 "metadata": {
  "kernelspec": {
   "display_name": "Python 3 (ipykernel)",
   "language": "python",
   "name": "python3"
  },
  "language_info": {
   "codemirror_mode": {
    "name": "ipython",
    "version": 3
   },
   "file_extension": ".py",
   "mimetype": "text/x-python",
   "name": "python",
   "nbconvert_exporter": "python",
   "pygments_lexer": "ipython3",
   "version": "3.9.7"
  }
 },
 "nbformat": 4,
 "nbformat_minor": 5
}
